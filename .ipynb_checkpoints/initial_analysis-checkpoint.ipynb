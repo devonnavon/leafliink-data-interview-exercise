{
 "cells": [
  {
   "cell_type": "code",
   "execution_count": 203,
   "metadata": {},
   "outputs": [
    {
     "data": {
      "text/plain": [
       "<module 'helpers' from '/Users/devonnavon/Code/interviews/leaflink/helpers.py'>"
      ]
     },
     "execution_count": 203,
     "metadata": {},
     "output_type": "execute_result"
    }
   ],
   "source": [
    "import boto3\n",
    "import pandas as pd\n",
    "import json\n",
    "\n",
    "import load_data as ld\n",
    "import helpers as h\n",
    "from importlib import reload\n",
    "reload(h)"
   ]
  },
  {
   "cell_type": "markdown",
   "metadata": {},
   "source": [
    "### Create Resource and load bucket file names"
   ]
  },
  {
   "cell_type": "code",
   "execution_count": 184,
   "metadata": {},
   "outputs": [],
   "source": [
    "s3_resource = boto3.resource('s3')\n",
    "s3_client = s3_resource.meta.client\n",
    "\n",
    "bucket_name = 'leafliink-data-interview-exercise'\n",
    "bucket = s3_resource.Bucket(bucket_name)\n",
    "keys = h.get_keys(bucket)\n",
    "\n",
    "\n",
    "len(keys)"
   ]
  },
  {
   "cell_type": "markdown",
   "metadata": {},
   "source": [
    "### Parse out dirs and prefixes"
   ]
  },
  {
   "cell_type": "code",
   "execution_count": 186,
   "metadata": {},
   "outputs": [],
   "source": [
    "keys_df = pd.DataFrame(keys, columns=['original'])\n",
    "dir_files = keys_df['original'].str.split('/',  n = 1, expand = True)\n",
    "prefix_file = dir_files[1].str.split('_', n=1, expand=True)\n",
    "keys_df['dir'], keys_df['file'], keys_df['prefix'], keys_df['detail'] = dir_files[0], dir_files[1], prefix_file[0], prefix_file[1]\n",
    "\n",
    "keys_df.head()"
   ]
  },
  {
   "cell_type": "markdown",
   "metadata": {},
   "source": [
    "### File Structure Anaylsis and Summary"
   ]
  },
  {
   "cell_type": "code",
   "execution_count": 95,
   "metadata": {},
   "outputs": [
    {
     "name": "stdout",
     "output_type": "stream",
     "text": [
      "Directories:  ['01', '02', '03', '04', '05', '06', '07']\n",
      "Prefixes (filetype):  ['', 'clicks', 'impressions']\n"
     ]
    },
    {
     "data": {
      "text/html": [
       "<div>\n",
       "<style scoped>\n",
       "    .dataframe tbody tr th:only-of-type {\n",
       "        vertical-align: middle;\n",
       "    }\n",
       "\n",
       "    .dataframe tbody tr th {\n",
       "        vertical-align: top;\n",
       "    }\n",
       "\n",
       "    .dataframe thead th {\n",
       "        text-align: right;\n",
       "    }\n",
       "</style>\n",
       "<table border=\"1\" class=\"dataframe\">\n",
       "  <thead>\n",
       "    <tr style=\"text-align: right;\">\n",
       "      <th></th>\n",
       "      <th>dir</th>\n",
       "      <th>prefix</th>\n",
       "      <th>original</th>\n",
       "      <th>first</th>\n",
       "    </tr>\n",
       "  </thead>\n",
       "  <tbody>\n",
       "    <tr>\n",
       "      <td>1</td>\n",
       "      <td>01</td>\n",
       "      <td>clicks</td>\n",
       "      <td>66</td>\n",
       "      <td>01/clicks_2020_02_01_0011_10417_engine-i-0c872...</td>\n",
       "    </tr>\n",
       "    <tr>\n",
       "      <td>2</td>\n",
       "      <td>01</td>\n",
       "      <td>impressions</td>\n",
       "      <td>2558</td>\n",
       "      <td>01/impressions_2020_02_01_0001_11392_engine-i-...</td>\n",
       "    </tr>\n",
       "    <tr>\n",
       "      <td>4</td>\n",
       "      <td>02</td>\n",
       "      <td>clicks</td>\n",
       "      <td>53</td>\n",
       "      <td>02/clicks_2020_02_02_0044_13471_engine-i-05fcb...</td>\n",
       "    </tr>\n",
       "    <tr>\n",
       "      <td>5</td>\n",
       "      <td>02</td>\n",
       "      <td>impressions</td>\n",
       "      <td>2336</td>\n",
       "      <td>02/impressions_2020_02_02_0000_10417_engine-i-...</td>\n",
       "    </tr>\n",
       "    <tr>\n",
       "      <td>7</td>\n",
       "      <td>03</td>\n",
       "      <td>clicks</td>\n",
       "      <td>166</td>\n",
       "      <td>03/clicks_2020_02_03_0019_12062_engine-i-0a4cf...</td>\n",
       "    </tr>\n",
       "    <tr>\n",
       "      <td>8</td>\n",
       "      <td>03</td>\n",
       "      <td>impressions</td>\n",
       "      <td>5083</td>\n",
       "      <td>03/impressions_2020_02_03_0000_10417_engine-i-...</td>\n",
       "    </tr>\n",
       "    <tr>\n",
       "      <td>10</td>\n",
       "      <td>04</td>\n",
       "      <td>clicks</td>\n",
       "      <td>160</td>\n",
       "      <td>04/clicks_2020_02_04_0015_10417_engine-i-0c872...</td>\n",
       "    </tr>\n",
       "    <tr>\n",
       "      <td>11</td>\n",
       "      <td>04</td>\n",
       "      <td>impressions</td>\n",
       "      <td>5089</td>\n",
       "      <td>04/impressions_2020_02_04_0000_10417_engine-i-...</td>\n",
       "    </tr>\n",
       "    <tr>\n",
       "      <td>13</td>\n",
       "      <td>05</td>\n",
       "      <td>clicks</td>\n",
       "      <td>114</td>\n",
       "      <td>05/clicks_2020_02_05_0000_10417_engine-i-0c872...</td>\n",
       "    </tr>\n",
       "    <tr>\n",
       "      <td>14</td>\n",
       "      <td>05</td>\n",
       "      <td>impressions</td>\n",
       "      <td>4365</td>\n",
       "      <td>05/impressions_2020_02_05_0000_10417_engine-i-...</td>\n",
       "    </tr>\n",
       "    <tr>\n",
       "      <td>16</td>\n",
       "      <td>06</td>\n",
       "      <td>clicks</td>\n",
       "      <td>121</td>\n",
       "      <td>06/clicks_2020_02_06_0018_11839_engine-i-00c08...</td>\n",
       "    </tr>\n",
       "    <tr>\n",
       "      <td>17</td>\n",
       "      <td>06</td>\n",
       "      <td>impressions</td>\n",
       "      <td>4596</td>\n",
       "      <td>06/impressions_2020_02_06_0000_10417_engine-i-...</td>\n",
       "    </tr>\n",
       "    <tr>\n",
       "      <td>19</td>\n",
       "      <td>07</td>\n",
       "      <td>clicks</td>\n",
       "      <td>115</td>\n",
       "      <td>07/clicks_2020_02_07_0001_11808_engine-i-0eb0d...</td>\n",
       "    </tr>\n",
       "    <tr>\n",
       "      <td>20</td>\n",
       "      <td>07</td>\n",
       "      <td>impressions</td>\n",
       "      <td>4124</td>\n",
       "      <td>07/impressions_2020_02_07_0000_11808_engine-i-...</td>\n",
       "    </tr>\n",
       "  </tbody>\n",
       "</table>\n",
       "</div>"
      ],
      "text/plain": [
       "   dir       prefix  original  \\\n",
       "1   01       clicks        66   \n",
       "2   01  impressions      2558   \n",
       "4   02       clicks        53   \n",
       "5   02  impressions      2336   \n",
       "7   03       clicks       166   \n",
       "8   03  impressions      5083   \n",
       "10  04       clicks       160   \n",
       "11  04  impressions      5089   \n",
       "13  05       clicks       114   \n",
       "14  05  impressions      4365   \n",
       "16  06       clicks       121   \n",
       "17  06  impressions      4596   \n",
       "19  07       clicks       115   \n",
       "20  07  impressions      4124   \n",
       "\n",
       "                                                first  \n",
       "1   01/clicks_2020_02_01_0011_10417_engine-i-0c872...  \n",
       "2   01/impressions_2020_02_01_0001_11392_engine-i-...  \n",
       "4   02/clicks_2020_02_02_0044_13471_engine-i-05fcb...  \n",
       "5   02/impressions_2020_02_02_0000_10417_engine-i-...  \n",
       "7   03/clicks_2020_02_03_0019_12062_engine-i-0a4cf...  \n",
       "8   03/impressions_2020_02_03_0000_10417_engine-i-...  \n",
       "10  04/clicks_2020_02_04_0015_10417_engine-i-0c872...  \n",
       "11  04/impressions_2020_02_04_0000_10417_engine-i-...  \n",
       "13  05/clicks_2020_02_05_0000_10417_engine-i-0c872...  \n",
       "14  05/impressions_2020_02_05_0000_10417_engine-i-...  \n",
       "16  06/clicks_2020_02_06_0018_11839_engine-i-00c08...  \n",
       "17  06/impressions_2020_02_06_0000_10417_engine-i-...  \n",
       "19  07/clicks_2020_02_07_0001_11808_engine-i-0eb0d...  \n",
       "20  07/impressions_2020_02_07_0000_11808_engine-i-...  "
      ]
     },
     "execution_count": 95,
     "metadata": {},
     "output_type": "execute_result"
    }
   ],
   "source": [
    "dirs = list(keys_df.dir.drop_duplicates())\n",
    "file_types = list(keys_df.prefix.drop_duplicates())\n",
    "summary = keys_df[['dir','prefix', 'original']].groupby(['dir', 'prefix']).count().reset_index()\n",
    "first_val = keys_df[['dir','prefix', 'original']].groupby(['dir', 'prefix']).first().reset_index()\n",
    "first_val.columns = ['dir','prefix', 'first']\n",
    "summary = pd.concat([summary, first_val['first']], axis=1)\n",
    "summary = summary[~(summary.prefix=='')]\n",
    "\n",
    "print('Directories: ', dirs)\n",
    "print('Prefixes (filetype): ', file_types)\n",
    "summary"
   ]
  },
  {
   "cell_type": "markdown",
   "metadata": {},
   "source": [
    "Note: Dirs correspond to month\n",
    "### Download Test Files"
   ]
  },
  {
   "cell_type": "code",
   "execution_count": 140,
   "metadata": {},
   "outputs": [],
   "source": [
    "test_files = list(summary['first'])\n",
    "local_files = [f'test_files/{file.split(\"/\")[1]}' for file in test_files]\n",
    "for i,file in enumerate(test_files):\n",
    "    s3_resource.Object(bucket_name, file).download_file(local_files[i])"
   ]
  },
  {
   "cell_type": "markdown",
   "metadata": {},
   "source": [
    "### Read JSON files\n",
    "- some files error because of following structure: '{}/n{}/n'\n",
    "- exception catches and deals with these"
   ]
  },
  {
   "cell_type": "code",
   "execution_count": 187,
   "metadata": {},
   "outputs": [],
   "source": [
    "json_files = []\n",
    "for file in local_files:\n",
    "    with open(file) as f:\n",
    "        try: \n",
    "            json_files.append(json.load(f))\n",
    "        except Exception: #to deal with JSONDecodeError: Extra data: line 2 column 1 \n",
    "            err_file = f.read().split('/n') #split at new line\n",
    "            for x in err_file[:-1]:\n",
    "                json_files.append(json.loads(x)) #append all extra info "
   ]
  },
  {
   "cell_type": "code",
   "execution_count": 204,
   "metadata": {},
   "outputs": [
    {
     "data": {
      "text/plain": [
       "{'Meta:schema': 'event',\n",
       " 'Meta:version': '1.3',\n",
       " 'GdprComputed': True,\n",
       " 'GdprSource': 'none',\n",
       " 'RemoteIP': '0.0.0.0',\n",
       " 'UserAgent': '',\n",
       " 'Ecpm': 0,\n",
       " 'Datacenter': False,\n",
       " 'BurnIn': False,\n",
       " 'IsValidUA': True,\n",
       " 'User_Key': '9496',\n",
       " 'User_IsNew': False,\n",
       " 'UserKey': '9496',\n",
       " 'ImpressionCount': 1,\n",
       " 'Id': '2976a7acbd2342babb273795dd9293ce',\n",
       " 'DecisionId': '12a2999139e041a4a13f0412693bef7f',\n",
       " 'DecisionIdx': 0,\n",
       " 'CreatedOn': '/Date(1580515294389)/',\n",
       " 'EventCreatedOn': 1580515295233,\n",
       " 'ImpressionCreatedOn': 1580515294389,\n",
       " 'AdTypeId': 2480,\n",
       " 'AuctionBids': 1,\n",
       " 'BrandId': 542240,\n",
       " 'CampaignId': 1310070,\n",
       " 'Categories': [],\n",
       " 'ChannelId': 41720,\n",
       " 'CreativeId': 16347236,\n",
       " 'CreativePassId': 19020242,\n",
       " 'DeliveryMode': 3,\n",
       " 'Device_brandName': 'Google',\n",
       " 'Device_modelName': 'Chrome',\n",
       " 'Device_osRawVersion': '0',\n",
       " 'Device_osMajorVersion': 0,\n",
       " 'Device_osMinorVersion': 0,\n",
       " 'Device_browser': 'Chrome Desktop',\n",
       " 'Device_browserRawVersion': '79.0',\n",
       " 'Device_browserMajorVersion': 79,\n",
       " 'Device_browserMinorVersion': 0,\n",
       " 'Device_formFactor': 'desktop',\n",
       " 'FirstChannelId': 41720,\n",
       " 'IsNoTrack': False,\n",
       " 'IsTrackingCookieEvents': True,\n",
       " 'IsPublisherPayoutExempt': False,\n",
       " 'Keywords': 'discover_products_banner,discover_products_banner',\n",
       " 'MatchingKeywords': [],\n",
       " 'NetworkId': 10340,\n",
       " 'PassId': 11015174,\n",
       " 'PhantomCreativePassId': 0,\n",
       " 'PlacementName': 'discovery-right',\n",
       " 'PhantomPassId': 0,\n",
       " 'PriorityId': 178494,\n",
       " 'Price': '439.5',\n",
       " 'RateType': 1,\n",
       " 'RelevancyScore': 500,\n",
       " 'Revenue': 0,\n",
       " 'NetRevenue': 0,\n",
       " 'GrossRevenue': 0,\n",
       " 'ServedBy': 'i-0b2e383c3275ffd63',\n",
       " 'ServedByPid': 119576,\n",
       " 'ServedByAsg': 'bifrost-adservers-default-us-east-1',\n",
       " 'SiteId': 1096373,\n",
       " 'Url': 'https://leaflink.com/shop/',\n",
       " 'ZoneId': 211626}"
      ]
     },
     "execution_count": 204,
     "metadata": {},
     "output_type": "execute_result"
    }
   ],
   "source": [
    "temp = json_files[1]\n",
    "h.flatten_dict(temp)"
   ]
  },
  {
   "cell_type": "code",
   "execution_count": 191,
   "metadata": {},
   "outputs": [
    {
     "name": "stdout",
     "output_type": "stream",
     "text": [
      "{'Key': '19288', 'IsNew': False}\n",
      "{'brandName': 'Google', 'modelName': 'Chrome', 'osRawVersion': '0', 'osMajorVersion': 0, 'osMinorVersion': 0, 'browser': 'Chrome Desktop', 'browserRawVersion': '79.0', 'browserMajorVersion': 79, 'browserMinorVersion': 0, 'formFactor': 'desktop'}\n"
     ]
    }
   ],
   "source": []
  },
  {
   "cell_type": "code",
   "execution_count": 197,
   "metadata": {},
   "outputs": [],
   "source": [
    "key = 'Device'\n",
    "info = temp[key]"
   ]
  },
  {
   "cell_type": "code",
   "execution_count": 198,
   "metadata": {},
   "outputs": [
    {
     "data": {
      "text/plain": [
       "{'brandName': 'Google',\n",
       " 'modelName': 'Chrome',\n",
       " 'osRawVersion': '0',\n",
       " 'osMajorVersion': 0,\n",
       " 'osMinorVersion': 0,\n",
       " 'browser': 'Chrome Desktop',\n",
       " 'browserRawVersion': '79.0',\n",
       " 'browserMajorVersion': 79,\n",
       " 'browserMinorVersion': 0,\n",
       " 'formFactor': 'desktop'}"
      ]
     },
     "execution_count": 198,
     "metadata": {},
     "output_type": "execute_result"
    }
   ],
   "source": [
    "for x in info:\n",
    "    "
   ]
  },
  {
   "cell_type": "code",
   "execution_count": null,
   "metadata": {},
   "outputs": [],
   "source": []
  }
 ],
 "metadata": {
  "kernelspec": {
   "display_name": "Python 3",
   "language": "python",
   "name": "python3"
  },
  "language_info": {
   "codemirror_mode": {
    "name": "ipython",
    "version": 3
   },
   "file_extension": ".py",
   "mimetype": "text/x-python",
   "name": "python",
   "nbconvert_exporter": "python",
   "pygments_lexer": "ipython3",
   "version": "3.7.4"
  }
 },
 "nbformat": 4,
 "nbformat_minor": 4
}
